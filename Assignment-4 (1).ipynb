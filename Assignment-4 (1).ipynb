{
 "cells": [
  {
   "cell_type": "code",
   "execution_count": null,
   "id": "0318438e",
   "metadata": {},
   "outputs": [],
   "source": [
    "1. What exactly is []?\n",
    "Ans- List"
   ]
  },
  {
   "cell_type": "code",
   "execution_count": 2,
   "id": "94ff61f5",
   "metadata": {},
   "outputs": [],
   "source": [
    "# Ans-2\n",
    "spam=[2, 4, 6, 8, 10] "
   ]
  },
  {
   "cell_type": "code",
   "execution_count": 3,
   "id": "5638d9e0",
   "metadata": {},
   "outputs": [],
   "source": [
    "spam[2]=\"hello\""
   ]
  },
  {
   "cell_type": "code",
   "execution_count": 4,
   "id": "e19af8cf",
   "metadata": {},
   "outputs": [
    {
     "data": {
      "text/plain": [
       "[2, 4, 'hello', 8, 10]"
      ]
     },
     "execution_count": 4,
     "metadata": {},
     "output_type": "execute_result"
    }
   ],
   "source": [
    "spam"
   ]
  },
  {
   "cell_type": "code",
   "execution_count": 5,
   "id": "b644cc42",
   "metadata": {},
   "outputs": [],
   "source": [
    "#Ans-3\n",
    "spam=['a','b','c','d']"
   ]
  },
  {
   "cell_type": "code",
   "execution_count": 6,
   "id": "30a91b21",
   "metadata": {},
   "outputs": [
    {
     "data": {
      "text/plain": [
       "'d'"
      ]
     },
     "execution_count": 6,
     "metadata": {},
     "output_type": "execute_result"
    }
   ],
   "source": [
    "spam[int(int('3' * 2) / 11)]\n",
    "# \"3\"*2 will repeat the string two times so it will be 33/11=3 and starting from 0th indexes if we till 3rd indexes the value at this place is d"
   ]
  },
  {
   "cell_type": "code",
   "execution_count": 7,
   "id": "496efac4",
   "metadata": {},
   "outputs": [
    {
     "data": {
      "text/plain": [
       "'d'"
      ]
     },
     "execution_count": 7,
     "metadata": {},
     "output_type": "execute_result"
    }
   ],
   "source": [
    "#Ans-4\n",
    "spam[-1]"
   ]
  },
  {
   "cell_type": "code",
   "execution_count": 9,
   "id": "028bc33c",
   "metadata": {},
   "outputs": [
    {
     "data": {
      "text/plain": [
       "['a', 'b']"
      ]
     },
     "execution_count": 9,
     "metadata": {},
     "output_type": "execute_result"
    }
   ],
   "source": [
    "#Ans-5\n",
    "spam[:2]"
   ]
  },
  {
   "cell_type": "code",
   "execution_count": 23,
   "id": "7f602679",
   "metadata": {},
   "outputs": [],
   "source": [
    "bacon=[3.14, 'cat', 11, 'cat', True] "
   ]
  },
  {
   "cell_type": "code",
   "execution_count": 13,
   "id": "edaf3aa4",
   "metadata": {},
   "outputs": [
    {
     "data": {
      "text/plain": [
       "1"
      ]
     },
     "execution_count": 13,
     "metadata": {},
     "output_type": "execute_result"
    }
   ],
   "source": [
    "#Ans-6\n",
    "bacon.index('cat')\n",
    "#Index method is used to find out the specific index of a value within a list"
   ]
  },
  {
   "cell_type": "code",
   "execution_count": 24,
   "id": "fad4a30e",
   "metadata": {},
   "outputs": [],
   "source": [
    "#Ans-7\n",
    "bacon.append(99)"
   ]
  },
  {
   "cell_type": "code",
   "execution_count": 25,
   "id": "7d843d35",
   "metadata": {},
   "outputs": [
    {
     "data": {
      "text/plain": [
       "[3.14, 'cat', 11, 'cat', True, 99]"
      ]
     },
     "execution_count": 25,
     "metadata": {},
     "output_type": "execute_result"
    }
   ],
   "source": [
    "bacon"
   ]
  },
  {
   "cell_type": "code",
   "execution_count": 26,
   "id": "ea61cb52",
   "metadata": {},
   "outputs": [],
   "source": [
    "#Ans-8\n",
    "bacon.remove('cat')"
   ]
  },
  {
   "cell_type": "code",
   "execution_count": 27,
   "id": "a6842fc0",
   "metadata": {},
   "outputs": [
    {
     "data": {
      "text/plain": [
       "[3.14, 11, 'cat', True, 99]"
      ]
     },
     "execution_count": 27,
     "metadata": {},
     "output_type": "execute_result"
    }
   ],
   "source": [
    "bacon\n",
    "# remove method used to remove a specific value within a list and it will remove the first occurrences of a specified element."
   ]
  },
  {
   "cell_type": "code",
   "execution_count": 28,
   "id": "3c188ed3",
   "metadata": {},
   "outputs": [],
   "source": [
    "#Ans-9\n",
    "#List Concatenation operator is (+)\n",
    "l1=[1,2,3,4]\n",
    "l2=[5,6,7,8]\n",
    "L=l1+l2\n"
   ]
  },
  {
   "cell_type": "code",
   "execution_count": 29,
   "id": "3a6fcc19",
   "metadata": {},
   "outputs": [
    {
     "data": {
      "text/plain": [
       "[1, 2, 3, 4, 5, 6, 7, 8]"
      ]
     },
     "execution_count": 29,
     "metadata": {},
     "output_type": "execute_result"
    }
   ],
   "source": [
    "L"
   ]
  },
  {
   "cell_type": "code",
   "execution_count": 30,
   "id": "b8a64f8f",
   "metadata": {},
   "outputs": [],
   "source": [
    "# list replication operator is (*)\n",
    "l=[0,1,2,3]\n",
    "l1=l*4"
   ]
  },
  {
   "cell_type": "code",
   "execution_count": 31,
   "id": "35390703",
   "metadata": {},
   "outputs": [
    {
     "data": {
      "text/plain": [
       "[0, 1, 2, 3, 0, 1, 2, 3, 0, 1, 2, 3, 0, 1, 2, 3]"
      ]
     },
     "execution_count": 31,
     "metadata": {},
     "output_type": "execute_result"
    }
   ],
   "source": [
    "l1"
   ]
  },
  {
   "cell_type": "code",
   "execution_count": null,
   "id": "be2378cc",
   "metadata": {},
   "outputs": [],
   "source": [
    "#Ans-10\n",
    "# Difference between append and insert\n",
    "# Append method try to append a specific element/value within a list to the last index where as in insert method it replaces the value or element of the specified indexes"
   ]
  },
  {
   "cell_type": "code",
   "execution_count": 32,
   "id": "b345406b",
   "metadata": {},
   "outputs": [],
   "source": [
    "l=[0,1,2,3]"
   ]
  },
  {
   "cell_type": "code",
   "execution_count": 33,
   "id": "b5d1c22f",
   "metadata": {},
   "outputs": [],
   "source": [
    "l.insert(1,5)"
   ]
  },
  {
   "cell_type": "code",
   "execution_count": 34,
   "id": "a84f4525",
   "metadata": {},
   "outputs": [
    {
     "data": {
      "text/plain": [
       "[0, 5, 1, 2, 3]"
      ]
     },
     "execution_count": 34,
     "metadata": {},
     "output_type": "execute_result"
    }
   ],
   "source": [
    "l"
   ]
  },
  {
   "cell_type": "code",
   "execution_count": 35,
   "id": "58f4a3ef",
   "metadata": {},
   "outputs": [],
   "source": [
    "l=[1,2,3,4]"
   ]
  },
  {
   "cell_type": "code",
   "execution_count": 36,
   "id": "2e2e3248",
   "metadata": {},
   "outputs": [],
   "source": [
    "l.append(99)"
   ]
  },
  {
   "cell_type": "code",
   "execution_count": 37,
   "id": "4165b503",
   "metadata": {},
   "outputs": [
    {
     "data": {
      "text/plain": [
       "[1, 2, 3, 4, 99]"
      ]
     },
     "execution_count": 37,
     "metadata": {},
     "output_type": "execute_result"
    }
   ],
   "source": [
    "l"
   ]
  },
  {
   "cell_type": "code",
   "execution_count": 45,
   "id": "72577476",
   "metadata": {},
   "outputs": [],
   "source": [
    "#Ans-11\n",
    "# remove method and pop method\n",
    "l=[1,2,3,4,5,2]"
   ]
  },
  {
   "cell_type": "code",
   "execution_count": 39,
   "id": "6ed9ff82",
   "metadata": {},
   "outputs": [],
   "source": [
    "l.remove(2)"
   ]
  },
  {
   "cell_type": "code",
   "execution_count": 40,
   "id": "0472e590",
   "metadata": {},
   "outputs": [
    {
     "data": {
      "text/plain": [
       "[1, 3, 4, 5, 2]"
      ]
     },
     "execution_count": 40,
     "metadata": {},
     "output_type": "execute_result"
    }
   ],
   "source": [
    "l"
   ]
  },
  {
   "cell_type": "code",
   "execution_count": 43,
   "id": "4eb24dc9",
   "metadata": {},
   "outputs": [
    {
     "data": {
      "text/plain": [
       "1"
      ]
     },
     "execution_count": 43,
     "metadata": {},
     "output_type": "execute_result"
    }
   ],
   "source": [
    "l.pop(0)"
   ]
  },
  {
   "cell_type": "code",
   "execution_count": 44,
   "id": "1ff98f0b",
   "metadata": {},
   "outputs": [
    {
     "data": {
      "text/plain": [
       "[2, 3, 4, 5, 2]"
      ]
     },
     "execution_count": 44,
     "metadata": {},
     "output_type": "execute_result"
    }
   ],
   "source": [
    "l"
   ]
  },
  {
   "cell_type": "code",
   "execution_count": 46,
   "id": "308fae2e",
   "metadata": {},
   "outputs": [
    {
     "data": {
      "text/plain": [
       "2"
      ]
     },
     "execution_count": 46,
     "metadata": {},
     "output_type": "execute_result"
    }
   ],
   "source": [
    "l.pop()"
   ]
  },
  {
   "cell_type": "code",
   "execution_count": null,
   "id": "05738e70",
   "metadata": {},
   "outputs": [],
   "source": [
    "# Ans-12. Describe how list values and string values are identical.\n",
    "list values and string values are identical because they bothe have values in a seequential order we can access individual values by their indexes.Both supoort slicing operation,iteration and we can even find the length of both using len() function.\n",
    "however there is some difference are also there like 'Mutability', lists are mutable but string is immutable. on other hand list can contain various type of element but string can contain only characters.\n"
   ]
  },
  {
   "cell_type": "code",
   "execution_count": 50,
   "id": "cb3367f6",
   "metadata": {},
   "outputs": [],
   "source": [
    "l=[1,2,3,0.4,'hello', 9+8j]\n",
    "s='devesh sharma'"
   ]
  },
  {
   "cell_type": "code",
   "execution_count": 51,
   "id": "033a2a48",
   "metadata": {},
   "outputs": [
    {
     "data": {
      "text/plain": [
       "1"
      ]
     },
     "execution_count": 51,
     "metadata": {},
     "output_type": "execute_result"
    }
   ],
   "source": [
    "l[0]"
   ]
  },
  {
   "cell_type": "code",
   "execution_count": 52,
   "id": "a8c437e7",
   "metadata": {},
   "outputs": [
    {
     "data": {
      "text/plain": [
       "'d'"
      ]
     },
     "execution_count": 52,
     "metadata": {},
     "output_type": "execute_result"
    }
   ],
   "source": [
    "s[0]"
   ]
  },
  {
   "cell_type": "code",
   "execution_count": 57,
   "id": "cbe010f6",
   "metadata": {},
   "outputs": [
    {
     "data": {
      "text/plain": [
       "[2, 3, 0.4]"
      ]
     },
     "execution_count": 57,
     "metadata": {},
     "output_type": "execute_result"
    }
   ],
   "source": [
    "l[1:4]"
   ]
  },
  {
   "cell_type": "code",
   "execution_count": 58,
   "id": "f76830c0",
   "metadata": {},
   "outputs": [
    {
     "data": {
      "text/plain": [
       "'dev'"
      ]
     },
     "execution_count": 58,
     "metadata": {},
     "output_type": "execute_result"
    }
   ],
   "source": [
    "s[0:3]"
   ]
  },
  {
   "cell_type": "code",
   "execution_count": 59,
   "id": "cdbb0293",
   "metadata": {},
   "outputs": [
    {
     "data": {
      "text/plain": [
       "7"
      ]
     },
     "execution_count": 59,
     "metadata": {},
     "output_type": "execute_result"
    }
   ],
   "source": [
    "len(l)"
   ]
  },
  {
   "cell_type": "code",
   "execution_count": 60,
   "id": "8a67e5ea",
   "metadata": {},
   "outputs": [
    {
     "data": {
      "text/plain": [
       "13"
      ]
     },
     "execution_count": 60,
     "metadata": {},
     "output_type": "execute_result"
    }
   ],
   "source": [
    "len(s)"
   ]
  },
  {
   "cell_type": "code",
   "execution_count": 61,
   "id": "5280c188",
   "metadata": {},
   "outputs": [],
   "source": [
    "l[0]=55"
   ]
  },
  {
   "cell_type": "code",
   "execution_count": 62,
   "id": "5ee21e29",
   "metadata": {},
   "outputs": [
    {
     "data": {
      "text/plain": [
       "[55, 2, 3, 0.4, 'hello', (9+8j), 100]"
      ]
     },
     "execution_count": 62,
     "metadata": {},
     "output_type": "execute_result"
    }
   ],
   "source": [
    "l"
   ]
  },
  {
   "cell_type": "code",
   "execution_count": 63,
   "id": "03e0a763",
   "metadata": {},
   "outputs": [
    {
     "ename": "TypeError",
     "evalue": "'str' object does not support item assignment",
     "output_type": "error",
     "traceback": [
      "\u001b[1;31m---------------------------------------------------------------------------\u001b[0m",
      "\u001b[1;31mTypeError\u001b[0m                                 Traceback (most recent call last)",
      "\u001b[1;32m~\\AppData\\Local\\Temp/ipykernel_9460/1802965210.py\u001b[0m in \u001b[0;36m<module>\u001b[1;34m\u001b[0m\n\u001b[1;32m----> 1\u001b[1;33m \u001b[0ms\u001b[0m\u001b[1;33m[\u001b[0m\u001b[1;36m0\u001b[0m\u001b[1;33m]\u001b[0m\u001b[1;33m=\u001b[0m\u001b[1;34m'h'\u001b[0m\u001b[1;33m\u001b[0m\u001b[1;33m\u001b[0m\u001b[0m\n\u001b[0m",
      "\u001b[1;31mTypeError\u001b[0m: 'str' object does not support item assignment"
     ]
    }
   ],
   "source": [
    "s[0]='h'"
   ]
  },
  {
   "cell_type": "code",
   "execution_count": null,
   "id": "47e9b103",
   "metadata": {},
   "outputs": [],
   "source": [
    "#Ans-13. What's the difference between tuples and lists?\n",
    "Tuples are Immutable and enclosed in parantheses, they are memory efficient and faster to access due to there immutability.it supports only few methods primarily count() and index().Tuples are used for collections of those data which should remain unchanged such as dates,coordinates etc.\n",
    "Lists support mutability and enclosed in square brackets, it support many methods like append(), remove(),insert() etc"
   ]
  },
  {
   "cell_type": "code",
   "execution_count": 64,
   "id": "d5343ecf",
   "metadata": {},
   "outputs": [],
   "source": [
    "# Ans-14. How do you type a tuple value that only contains the integer 42?\n",
    "t=(42)"
   ]
  },
  {
   "cell_type": "code",
   "execution_count": 65,
   "id": "bbf6cddd",
   "metadata": {},
   "outputs": [
    {
     "data": {
      "text/plain": [
       "42"
      ]
     },
     "execution_count": 65,
     "metadata": {},
     "output_type": "execute_result"
    }
   ],
   "source": [
    "t"
   ]
  },
  {
   "cell_type": "code",
   "execution_count": 66,
   "id": "171cc162",
   "metadata": {},
   "outputs": [],
   "source": [
    "T=(42,)\n",
    "# here after value comma is must because if we dont include it,python will treat the paranthese as a regular parantheses and will not creat a tuple"
   ]
  },
  {
   "cell_type": "code",
   "execution_count": 67,
   "id": "fd5560fb",
   "metadata": {},
   "outputs": [
    {
     "data": {
      "text/plain": [
       "(42,)"
      ]
     },
     "execution_count": 67,
     "metadata": {},
     "output_type": "execute_result"
    }
   ],
   "source": [
    "T"
   ]
  },
  {
   "cell_type": "code",
   "execution_count": 81,
   "id": "f74e7c04",
   "metadata": {},
   "outputs": [],
   "source": [
    "#Ans-15. How do you get a list value's tuple form? How do you get a tuple value's list form?\n",
    "# List value's tuple form\n",
    "l=[1,2,3,4,5]"
   ]
  },
  {
   "cell_type": "code",
   "execution_count": 82,
   "id": "53c8dde5",
   "metadata": {},
   "outputs": [],
   "source": [
    "T=(l,)"
   ]
  },
  {
   "cell_type": "code",
   "execution_count": 83,
   "id": "5bcbf300",
   "metadata": {},
   "outputs": [
    {
     "data": {
      "text/plain": [
       "([1, 2, 3, 4, 5],)"
      ]
     },
     "execution_count": 83,
     "metadata": {},
     "output_type": "execute_result"
    }
   ],
   "source": [
    "T"
   ]
  },
  {
   "cell_type": "code",
   "execution_count": 84,
   "id": "1f2ae1f1",
   "metadata": {},
   "outputs": [
    {
     "data": {
      "text/plain": [
       "[1, 2, 3, 4, 5]"
      ]
     },
     "execution_count": 84,
     "metadata": {},
     "output_type": "execute_result"
    }
   ],
   "source": [
    "T[0]"
   ]
  },
  {
   "cell_type": "code",
   "execution_count": 85,
   "id": "a0977098",
   "metadata": {},
   "outputs": [
    {
     "ename": "TypeError",
     "evalue": "'tuple' object does not support item assignment",
     "output_type": "error",
     "traceback": [
      "\u001b[1;31m---------------------------------------------------------------------------\u001b[0m",
      "\u001b[1;31mTypeError\u001b[0m                                 Traceback (most recent call last)",
      "\u001b[1;32m~\\AppData\\Local\\Temp/ipykernel_9460/1550706549.py\u001b[0m in \u001b[0;36m<module>\u001b[1;34m\u001b[0m\n\u001b[1;32m----> 1\u001b[1;33m \u001b[0mT\u001b[0m\u001b[1;33m[\u001b[0m\u001b[1;36m0\u001b[0m\u001b[1;33m]\u001b[0m\u001b[1;33m=\u001b[0m\u001b[1;36m5\u001b[0m\u001b[1;33m\u001b[0m\u001b[1;33m\u001b[0m\u001b[0m\n\u001b[0m",
      "\u001b[1;31mTypeError\u001b[0m: 'tuple' object does not support item assignment"
     ]
    }
   ],
   "source": [
    "T[0]=5"
   ]
  },
  {
   "cell_type": "code",
   "execution_count": 86,
   "id": "24802417",
   "metadata": {},
   "outputs": [],
   "source": [
    "#Tuple values list form\n",
    "T=(1,2,3,4,5)"
   ]
  },
  {
   "cell_type": "code",
   "execution_count": 87,
   "id": "a0bbdba7",
   "metadata": {},
   "outputs": [
    {
     "data": {
      "text/plain": [
       "(1, 2, 3, 4, 5)"
      ]
     },
     "execution_count": 87,
     "metadata": {},
     "output_type": "execute_result"
    }
   ],
   "source": [
    "T"
   ]
  },
  {
   "cell_type": "code",
   "execution_count": 88,
   "id": "46824744",
   "metadata": {},
   "outputs": [],
   "source": [
    "l=[T]"
   ]
  },
  {
   "cell_type": "code",
   "execution_count": 89,
   "id": "1ff97349",
   "metadata": {},
   "outputs": [
    {
     "data": {
      "text/plain": [
       "[(1, 2, 3, 4, 5)]"
      ]
     },
     "execution_count": 89,
     "metadata": {},
     "output_type": "execute_result"
    }
   ],
   "source": [
    "l"
   ]
  },
  {
   "cell_type": "code",
   "execution_count": 90,
   "id": "b7bddeb0",
   "metadata": {},
   "outputs": [
    {
     "data": {
      "text/plain": [
       "(1, 2, 3, 4, 5)"
      ]
     },
     "execution_count": 90,
     "metadata": {},
     "output_type": "execute_result"
    }
   ],
   "source": [
    "l[0]"
   ]
  },
  {
   "cell_type": "code",
   "execution_count": 91,
   "id": "5b0edc1d",
   "metadata": {},
   "outputs": [],
   "source": [
    "l[0]=10"
   ]
  },
  {
   "cell_type": "code",
   "execution_count": 93,
   "id": "9df1becf",
   "metadata": {},
   "outputs": [
    {
     "data": {
      "text/plain": [
       "[10]"
      ]
     },
     "execution_count": 93,
     "metadata": {},
     "output_type": "execute_result"
    }
   ],
   "source": [
    "l"
   ]
  },
  {
   "cell_type": "code",
   "execution_count": null,
   "id": "033aff8f",
   "metadata": {},
   "outputs": [],
   "source": [
    "#Ans-16.. Variables that \"contain\" list values are not necessarily lists themselves. Instead, what do they contain?\n",
    "l=[1,2,3,4]\n",
    "# In the above case l doesn't directly contain the list. Instead it contains a reference that points to the memory location where the list data is stored"
   ]
  },
  {
   "cell_type": "code",
   "execution_count": null,
   "id": "73334a15",
   "metadata": {},
   "outputs": [],
   "source": [
    "#Ans-17. How do you distinguish between copy.copy() and copy.deepcopy()?"
   ]
  },
  {
   "cell_type": "code",
   "execution_count": 8,
   "id": "655762da",
   "metadata": {},
   "outputs": [
    {
     "name": "stdout",
     "output_type": "stream",
     "text": [
      "[[100, 2, 3], [4, 5, 6]]\n"
     ]
    }
   ],
   "source": [
    "import copy\n",
    "\n",
    "original_list = [[1, 2, 3], [4, 5, 6]]\n",
    "copied_list = copy.copy(original_list)\n",
    "\n",
    "# Both original and copied_list share references to the same nested lists\n",
    "copied_list[0][0] = 100\n",
    "\n",
    "print(original_list)  # Output: [[100, 2, 3], [4, 5, 6]]"
   ]
  },
  {
   "cell_type": "code",
   "execution_count": 15,
   "id": "e4a46d14",
   "metadata": {},
   "outputs": [
    {
     "name": "stdout",
     "output_type": "stream",
     "text": [
      "[[1, 2, 3], [4, 5, 6]]\n",
      "[[99, 2, 3], [4, 5, 6]]\n"
     ]
    }
   ],
   "source": [
    "#copy.deepcopy()\n",
    "#This function creates a deep copy of an object. A deep copy of an object not only creates a new object, but it also recursively creates copies of all nested objects within the original object. This ensures that changes made to nested objects in the copied object do not affect the original object, and vice versa.\n",
    "\n",
    "import copy\n",
    "\n",
    "original_list = [[1,2,3],[4,5,6]]\n",
    "deep_copied_list = copy.deepcopy(original_list)\n",
    "\n",
    "deep_copied_list[0][0] = 99\n",
    "\n",
    "print(original_list)       # Output: [[1,2,3] [4,5,6]]\n",
    "print(deep_copied_list)    # Output: [[1,2,3] [4,5,6]]\n",
    "#In summary, the key difference between copy.copy() and copy.deepcopy() lies in how they handle nested objects. copy.copy() creates a new object with references to the same nested objects as the original, while copy.deepcopy() creates a completely new set of objects, recursively copying all the nested objects as well.\n",
    "\n"
   ]
  },
  {
   "cell_type": "code",
   "execution_count": null,
   "id": "beeed10e",
   "metadata": {},
   "outputs": [],
   "source": []
  }
 ],
 "metadata": {
  "kernelspec": {
   "display_name": "Python 3 (ipykernel)",
   "language": "python",
   "name": "python3"
  },
  "language_info": {
   "codemirror_mode": {
    "name": "ipython",
    "version": 3
   },
   "file_extension": ".py",
   "mimetype": "text/x-python",
   "name": "python",
   "nbconvert_exporter": "python",
   "pygments_lexer": "ipython3",
   "version": "3.9.7"
  }
 },
 "nbformat": 4,
 "nbformat_minor": 5
}
