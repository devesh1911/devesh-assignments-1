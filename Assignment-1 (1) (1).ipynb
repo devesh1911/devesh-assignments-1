{
 "cells": [
  {
   "cell_type": "markdown",
   "id": "af1fc6b0",
   "metadata": {},
   "source": [
    "Ans-1. The values are 'hello', -87.8 and 6 and Expressions are *, -, /, +,"
   ]
  },
  {
   "cell_type": "markdown",
   "id": "97c778c8",
   "metadata": {},
   "source": [
    "Ans-2. String- A string a Datatype used to store and manipulate data.It is denoted by ''(single quotes) or\"\"(double qoutes).\n",
    "Example- Name= 'devesh'\n",
    "         Name= \"devesh\"\n",
    "\n",
    "Varibale- Variable always holds a value, it can be string, integer,fraction etc.Its assignment operator is '='\n",
    "length= 5,\n",
    "age= 34"
   ]
  },
  {
   "cell_type": "markdown",
   "id": "a95501d0",
   "metadata": {},
   "source": [
    "Ans-3. An Expression is made of varibale,operator and functions that evaluate a value. Expression can be a variable,operators and function calls.\n",
    "Expression main work is to produce a value, when an expression is evaluated it always give you a resulting value.\n",
    "Arithmetic expressions are like addition,substraction, multiplication,division.\n",
    "String concatination like \"devesh\"+\"sharma\",\n",
    "Logical expressions like x>3 and y<10"
   ]
  },
  {
   "cell_type": "markdown",
   "id": "ff3a4c65",
   "metadata": {},
   "source": [
    "Ans-5.Basic difference is a statement dont evaluate a value on other hand expression evaluate and gives you resulting values."
   ]
  },
  {
   "cell_type": "code",
   "execution_count": 7,
   "id": "18d9d12c",
   "metadata": {},
   "outputs": [
    {
     "data": {
      "text/plain": [
       "23"
      ]
     },
     "execution_count": 7,
     "metadata": {},
     "output_type": "execute_result"
    }
   ],
   "source": [
    "bacon=22\n",
    "bacon+1"
   ]
  },
  {
   "cell_type": "code",
   "execution_count": 8,
   "id": "559e856c",
   "metadata": {},
   "outputs": [
    {
     "data": {
      "text/plain": [
       "'spamspamspam'"
      ]
     },
     "execution_count": 8,
     "metadata": {},
     "output_type": "execute_result"
    }
   ],
   "source": [
    "'spam'+'spamspam'"
   ]
  },
  {
   "cell_type": "code",
   "execution_count": 9,
   "id": "02dc122b",
   "metadata": {},
   "outputs": [
    {
     "data": {
      "text/plain": [
       "'spamspamspam'"
      ]
     },
     "execution_count": 9,
     "metadata": {},
     "output_type": "execute_result"
    }
   ],
   "source": [
    "'spam'*3"
   ]
  },
  {
   "cell_type": "markdown",
   "id": "bdb1a33e",
   "metadata": {},
   "source": [
    "Ans-8. In Python the variable rule says that a variable name cannot start with a digit so 100 does not fulfil the rule of python for varibale sor egg is a variable and 100 is not a variable."
   ]
  },
  {
   "cell_type": "markdown",
   "id": "9358cace",
   "metadata": {},
   "source": [
    "Ans-9. Funtion used for integer is int(),for floating numbers in float() and for strings is str()."
   ]
  },
  {
   "cell_type": "code",
   "execution_count": 15,
   "id": "87dd2a35",
   "metadata": {},
   "outputs": [
    {
     "ename": "TypeError",
     "evalue": "can only concatenate str (not \"int\") to str",
     "output_type": "error",
     "traceback": [
      "\u001b[1;31m---------------------------------------------------------------------------\u001b[0m",
      "\u001b[1;31mTypeError\u001b[0m                                 Traceback (most recent call last)",
      "\u001b[1;32m~\\AppData\\Local\\Temp/ipykernel_13928/1774935878.py\u001b[0m in \u001b[0;36m<module>\u001b[1;34m\u001b[0m\n\u001b[1;32m----> 1\u001b[1;33m \u001b[1;34m'I have eaten '\u001b[0m \u001b[1;33m+\u001b[0m \u001b[1;36m99\u001b[0m \u001b[1;33m+\u001b[0m \u001b[1;34m' burritos.'\u001b[0m\u001b[1;33m\u001b[0m\u001b[1;33m\u001b[0m\u001b[0m\n\u001b[0m",
      "\u001b[1;31mTypeError\u001b[0m: can only concatenate str (not \"int\") to str"
     ]
    }
   ],
   "source": [
    "'I have eaten ' + 99 + ' burritos.'"
   ]
  },
  {
   "cell_type": "code",
   "execution_count": 16,
   "id": "dae27dfc",
   "metadata": {},
   "outputs": [
    {
     "data": {
      "text/plain": [
       "'I have eaten 99 burritos.'"
      ]
     },
     "execution_count": 16,
     "metadata": {},
     "output_type": "execute_result"
    }
   ],
   "source": [
    "'I have eaten ' + '99' + ' burritos.'"
   ]
  },
  {
   "cell_type": "code",
   "execution_count": null,
   "id": "3d2579fe",
   "metadata": {},
   "outputs": [],
   "source": []
  }
 ],
 "metadata": {
  "kernelspec": {
   "display_name": "Python 3 (ipykernel)",
   "language": "python",
   "name": "python3"
  },
  "language_info": {
   "codemirror_mode": {
    "name": "ipython",
    "version": 3
   },
   "file_extension": ".py",
   "mimetype": "text/x-python",
   "name": "python",
   "nbconvert_exporter": "python",
   "pygments_lexer": "ipython3",
   "version": "3.9.7"
  }
 },
 "nbformat": 4,
 "nbformat_minor": 5
}
