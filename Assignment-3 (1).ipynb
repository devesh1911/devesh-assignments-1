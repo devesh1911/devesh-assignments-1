{
 "cells": [
  {
   "cell_type": "markdown",
   "id": "9c2132d0",
   "metadata": {},
   "source": [
    "Ans-1: Functions always increase the reusability of the code,Call the function, pass the data and you don't have to writhe code ofr 10,100,1000 times."
   ]
  },
  {
   "cell_type": "code",
   "execution_count": 2,
   "id": "fe089bf9",
   "metadata": {},
   "outputs": [],
   "source": [
    "# The function runs only when it is invoked or called only otherwise it is only a block of code untill unless it is called,\n",
    "    #Specified function\n",
    "def Test():\n",
    "    print(\"Hello\")\n",
    "    \n",
    "    "
   ]
  },
  {
   "cell_type": "code",
   "execution_count": 3,
   "id": "0acf490b",
   "metadata": {},
   "outputs": [],
   "source": [
    "#Funtion Called\n",
    "def Test():\n",
    "    print(\"Hello\")"
   ]
  },
  {
   "cell_type": "code",
   "execution_count": 4,
   "id": "cf72b6e5",
   "metadata": {},
   "outputs": [
    {
     "name": "stdout",
     "output_type": "stream",
     "text": [
      "Hello\n"
     ]
    }
   ],
   "source": [
    "Test()"
   ]
  },
  {
   "cell_type": "markdown",
   "id": "c0d93f80",
   "metadata": {},
   "source": [
    "Ans-3: Function creates function definition or function declarartion."
   ]
  },
  {
   "cell_type": "markdown",
   "id": "67853b0c",
   "metadata": {},
   "source": [
    "Ans-4: Function- The function definition specifies what operations the function should perform, but those operations are not executed until the function is called.\n",
    "def Test():\n",
    "    print(\"Hello\")\n",
    "In the above function it shows that what this Test function will do but untill it is not called it will not be executed.\n",
    "Function Call- def Test():\n",
    "                   print(\"Hello\")\n",
    "                   Test()\n",
    " Now in this Funtion we are calling the funtion so it will execute its defined operations"
   ]
  },
  {
   "cell_type": "markdown",
   "id": "306ed419",
   "metadata": {},
   "source": [
    "Ans-5: Global Scope- There is only One Global Scope- which is defined out of the function, it can be accessed from any part of the code, including within functions.\n",
    "Local Variable-Local scopes are created within functions. Every time you define a function, it creates its own local scope. Variables defined within a function are part of its local scope and can only be accessed within that function. They are not accessible outside of the function."
   ]
  },
  {
   "cell_type": "markdown",
   "id": "f529dca3",
   "metadata": {},
   "source": [
    "Ans-6: Any variables defined within the local scope of the function are destroyed and removed from memory. These variables are no longer accessible once the function call completes.\n",
    "def test(a,b):\n",
    "    a=4\n",
    "    b=7\n",
    "    sum=a+b\n",
    "    print(sum)"
   ]
  },
  {
   "cell_type": "code",
   "execution_count": 17,
   "id": "18dcbb09",
   "metadata": {},
   "outputs": [
    {
     "name": "stdout",
     "output_type": "stream",
     "text": [
      "11\n"
     ]
    }
   ],
   "source": [
    "test(4,7)"
   ]
  },
  {
   "cell_type": "code",
   "execution_count": 18,
   "id": "74eb3dd4",
   "metadata": {},
   "outputs": [
    {
     "ename": "NameError",
     "evalue": "name 'a' is not defined",
     "output_type": "error",
     "traceback": [
      "\u001b[1;31m---------------------------------------------------------------------------\u001b[0m",
      "\u001b[1;31mNameError\u001b[0m                                 Traceback (most recent call last)",
      "\u001b[1;32m~\\AppData\\Local\\Temp/ipykernel_8864/2167009006.py\u001b[0m in \u001b[0;36m<module>\u001b[1;34m\u001b[0m\n\u001b[1;32m----> 1\u001b[1;33m \u001b[0ma\u001b[0m\u001b[1;33m\u001b[0m\u001b[1;33m\u001b[0m\u001b[0m\n\u001b[0m",
      "\u001b[1;31mNameError\u001b[0m: name 'a' is not defined"
     ]
    }
   ],
   "source": [
    "a"
   ]
  },
  {
   "cell_type": "code",
   "execution_count": null,
   "id": "3c4ab9ee",
   "metadata": {},
   "outputs": [],
   "source": [
    "Ans-7:"
   ]
  },
  {
   "cell_type": "code",
   "execution_count": 30,
   "id": "694f94f5",
   "metadata": {},
   "outputs": [
    {
     "name": "stdout",
     "output_type": "stream",
     "text": [
      "8\n"
     ]
    }
   ],
   "source": [
    "def test(a,b):\n",
    "    return a+b\n",
    "result= test(3,5)\n",
    "print(result)\n",
    "# return-  It's a way for a function to provide some result or output to the code that called it.It is possible to return a value in an expression"
   ]
  },
  {
   "cell_type": "code",
   "execution_count": 31,
   "id": "b5c4daea",
   "metadata": {},
   "outputs": [
    {
     "name": "stdout",
     "output_type": "stream",
     "text": [
      "18\n"
     ]
    }
   ],
   "source": [
    "total = test(10, test(5, 3))  # The inner add(5, 3) returns 8, which is then added to 10\n",
    "print(total)  # Prints 18\n"
   ]
  },
  {
   "cell_type": "markdown",
   "id": "0658dd8f",
   "metadata": {},
   "source": [
    "Ans-8: If a function does not have a return statement, the return value of a call to that function is a special value called 'None'. None is a built-in constant that represents the absence of a value or a \"null\" value.\n",
    "\n",
    "\n",
    "def test(name):\n",
    "    print(f\"Hello, {name}!\")\n",
    "\n",
    "result = test(\"Devesh\")\n",
    "print(result) "
   ]
  },
  {
   "cell_type": "code",
   "execution_count": 33,
   "id": "dad9c754",
   "metadata": {},
   "outputs": [
    {
     "name": "stdout",
     "output_type": "stream",
     "text": [
      "Hello, Devesh!\n",
      "None\n"
     ]
    }
   ],
   "source": [
    "def test(name):\n",
    "    print(f\"Hello, {name}!\")\n",
    "\n",
    "result = test(\"Devesh\")\n",
    "print(result) "
   ]
  },
  {
   "cell_type": "code",
   "execution_count": 82,
   "id": "f791a0cc",
   "metadata": {},
   "outputs": [
    {
     "name": "stdout",
     "output_type": "stream",
     "text": [
      "30\n"
     ]
    }
   ],
   "source": [
    "global a\n",
    "a=30\n",
    "def dev(m,n):\n",
    "    m=10\n",
    "    n=2\n",
    "    x=m*n\n",
    "    return x \n",
    "print(a)\n",
    "a=1"
   ]
  },
  {
   "cell_type": "code",
   "execution_count": 83,
   "id": "b8131863",
   "metadata": {},
   "outputs": [
    {
     "data": {
      "text/plain": [
       "20"
      ]
     },
     "execution_count": 83,
     "metadata": {},
     "output_type": "execute_result"
    }
   ],
   "source": [
    "dev(10,2)"
   ]
  },
  {
   "cell_type": "code",
   "execution_count": 2,
   "id": "4cefcecd",
   "metadata": {},
   "outputs": [
    {
     "data": {
      "text/plain": [
       "NoneType"
      ]
     },
     "execution_count": 2,
     "metadata": {},
     "output_type": "execute_result"
    }
   ],
   "source": [
    "# Ans-10\n",
    "type(None)"
   ]
  },
  {
   "cell_type": "code",
   "execution_count": 3,
   "id": "0ea52174",
   "metadata": {},
   "outputs": [
    {
     "ename": "ModuleNotFoundError",
     "evalue": "No module named 'areallyourpetsnamederic'",
     "output_type": "error",
     "traceback": [
      "\u001b[1;31m---------------------------------------------------------------------------\u001b[0m",
      "\u001b[1;31mModuleNotFoundError\u001b[0m                       Traceback (most recent call last)",
      "\u001b[1;32m~\\AppData\\Local\\Temp/ipykernel_3192/1212523305.py\u001b[0m in \u001b[0;36m<module>\u001b[1;34m\u001b[0m\n\u001b[1;32m----> 1\u001b[1;33m \u001b[1;32mimport\u001b[0m \u001b[0mareallyourpetsnamederic\u001b[0m\u001b[1;33m\u001b[0m\u001b[1;33m\u001b[0m\u001b[0m\n\u001b[0m",
      "\u001b[1;31mModuleNotFoundError\u001b[0m: No module named 'areallyourpetsnamederic'"
     ]
    }
   ],
   "source": [
    "import areallyourpetsnamederic "
   ]
  },
  {
   "cell_type": "code",
   "execution_count": null,
   "id": "0b1d88af",
   "metadata": {},
   "outputs": [],
   "source": [
    "# Ans-11\n",
    "import statement is used to bring external modules, libraries, or packages into your code"
   ]
  },
  {
   "cell_type": "code",
   "execution_count": null,
   "id": "9d5e7943",
   "metadata": {},
   "outputs": [],
   "source": [
    "# Ans-12\n",
    "import spam\n",
    "spam.bacon()\n",
    "# After importing module we are calling the bacon which is nothing but a Function."
   ]
  },
  {
   "cell_type": "code",
   "execution_count": null,
   "id": "d86cb2e2",
   "metadata": {},
   "outputs": [],
   "source": [
    "# Ans-13\n",
    "We have to use Try and Except block to stop crashing the code"
   ]
  },
  {
   "cell_type": "markdown",
   "id": "46e29fdf",
   "metadata": {},
   "source": [
    "Ans-14\n",
    "try:- The purpose of the try clause is to monitor the code within it for any exceptions that might occur during execution. If an exception occurs within the try block, the control flow is transferred to the except block.\n",
    "except:-The except block is used to catch and handle exceptions, preventing them from causing the program to crash."
   ]
  }
 ],
 "metadata": {
  "kernelspec": {
   "display_name": "Python 3 (ipykernel)",
   "language": "python",
   "name": "python3"
  },
  "language_info": {
   "codemirror_mode": {
    "name": "ipython",
    "version": 3
   },
   "file_extension": ".py",
   "mimetype": "text/x-python",
   "name": "python",
   "nbconvert_exporter": "python",
   "pygments_lexer": "ipython3",
   "version": "3.9.7"
  }
 },
 "nbformat": 4,
 "nbformat_minor": 5
}
