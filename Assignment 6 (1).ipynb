{
 "cells": [
  {
   "cell_type": "raw",
   "id": "30319d17",
   "metadata": {},
   "source": [
    "Q1. What are escape characters, and how do you use them?\n",
    "Ans- Escape characters are special characters that are used to represent characters that are difficult or impossible to include directly in a string. They are preceded by a backslash \\ "
   ]
  },
  {
   "cell_type": "raw",
   "id": "eb108f04",
   "metadata": {},
   "source": [
    "Q2. What do the escape characters n and t stand for?"
   ]
  },
  {
   "cell_type": "code",
   "execution_count": null,
   "id": "29231005",
   "metadata": {},
   "outputs": [],
   "source": [
    "A.\\n:-Represents a newline character. It is used to start a new line within a string."
   ]
  },
  {
   "cell_type": "code",
   "execution_count": 8,
   "id": "cef07c84",
   "metadata": {},
   "outputs": [
    {
     "name": "stdout",
     "output_type": "stream",
     "text": [
      "Hello\n",
      "World\n"
     ]
    }
   ],
   "source": [
    "print(\"Hello\\nWorld\")"
   ]
  },
  {
   "cell_type": "code",
   "execution_count": null,
   "id": "132cd3e2",
   "metadata": {},
   "outputs": [],
   "source": [
    "B.\\t:- Represents a tab character. It is used to insert a tab space within a string."
   ]
  },
  {
   "cell_type": "code",
   "execution_count": 9,
   "id": "4f2ca072",
   "metadata": {},
   "outputs": [
    {
     "name": "stdout",
     "output_type": "stream",
     "text": [
      "devesh\tsharma\n"
     ]
    }
   ],
   "source": [
    "print(\"devesh\\tsharma\")"
   ]
  },
  {
   "cell_type": "raw",
   "id": "b0df6298",
   "metadata": {},
   "source": [
    "Q3. What is the way to include backslash characters in a string?"
   ]
  },
  {
   "cell_type": "raw",
   "id": "f78cecaf",
   "metadata": {},
   "source": [
    "To include a backslash character \\ in a string, we can escape it by using a double backslash \\\\. Here's an example:"
   ]
  },
  {
   "cell_type": "code",
   "execution_count": 14,
   "id": "eaf6f525",
   "metadata": {},
   "outputs": [
    {
     "name": "stdout",
     "output_type": "stream",
     "text": [
      "This my backlash: \\\n"
     ]
    }
   ],
   "source": [
    "str=\"This my backlash: \\\\\"\n",
    "print(str)"
   ]
  },
  {
   "cell_type": "raw",
   "id": "f5c2c451",
   "metadata": {},
   "source": [
    "# By using \\\\, you are telling Python to treat the second backslash as a literal character and not as the start of an escape sequence. This way, you can include a backslash in your string without it being interpreted as an escape character."
   ]
  },
  {
   "cell_type": "raw",
   "id": "098819b2",
   "metadata": {},
   "source": [
    "Q4. The string \"Howl's Moving Castle\" is a correct value. Why isn't the single quote character in the word Howl's not escaped a problem?"
   ]
  },
  {
   "cell_type": "code",
   "execution_count": 15,
   "id": "c891197e",
   "metadata": {},
   "outputs": [
    {
     "name": "stdout",
     "output_type": "stream",
     "text": [
      "Howl's Moving Castle\n"
     ]
    }
   ],
   "source": [
    "print(\"Howl's Moving Castle\")"
   ]
  },
  {
   "cell_type": "raw",
   "id": "964110ce",
   "metadata": {},
   "source": [
    "In Python, we can use either single quotes (') or double quotes (\") to define string literals. When a string is enclosed in one type of quote, we can freely use the other type of quote within the string without the need for escaping.\n",
    "\n",
    "So, in the string \"Howl's Moving Castle,\" the single quote within \"Howl's\" is enclosed in double quotes, and Python interprets it as part of the string and not as the end of the string. "
   ]
  },
  {
   "cell_type": "raw",
   "id": "5d04306f",
   "metadata": {},
   "source": [
    "Q5. How do you write a string of newlines if you don't want to use the n character?"
   ]
  },
  {
   "cell_type": "raw",
   "id": "01e65863",
   "metadata": {},
   "source": [
    "We can achieve this by using 'triple quoted string',which are often used for docstrings but can also be used to create multi-line string literals. This way, we can include line breaks directly within the string. Triple-quoted strings are enclosed by either triple single quotes (''') or triple double quotes (\"\"\"). Here's an example:"
   ]
  },
  {
   "cell_type": "code",
   "execution_count": 1,
   "id": "918858af",
   "metadata": {},
   "outputs": [],
   "source": [
    "newlines = '''This is a string\n",
    "with multiple lines.\n",
    "It contains line breaks.'''"
   ]
  },
  {
   "cell_type": "code",
   "execution_count": 2,
   "id": "ee8ec5e1",
   "metadata": {},
   "outputs": [
    {
     "name": "stdout",
     "output_type": "stream",
     "text": [
      "This is a string\n",
      "with multiple lines.\n",
      "It contains line breaks.\n"
     ]
    }
   ],
   "source": [
    "print(newlines)"
   ]
  },
  {
   "cell_type": "raw",
   "id": "23074ed6",
   "metadata": {},
   "source": [
    "Q6. What are the values of the given expressions?\n",
    "'Hello, world!'[1]\n",
    "'Hello, world!'[0:5]\n",
    "'Hello, world!'[:5]\n",
    "'Hello, world!'[3:]\n"
   ]
  },
  {
   "cell_type": "code",
   "execution_count": 3,
   "id": "eeda7e72",
   "metadata": {},
   "outputs": [
    {
     "data": {
      "text/plain": [
       "'e'"
      ]
     },
     "execution_count": 3,
     "metadata": {},
     "output_type": "execute_result"
    }
   ],
   "source": [
    "'Hello, world!'[1]"
   ]
  },
  {
   "cell_type": "code",
   "execution_count": 4,
   "id": "72fa2c80",
   "metadata": {},
   "outputs": [
    {
     "data": {
      "text/plain": [
       "'Hello'"
      ]
     },
     "execution_count": 4,
     "metadata": {},
     "output_type": "execute_result"
    }
   ],
   "source": [
    "'Hello, world!'[0:5]"
   ]
  },
  {
   "cell_type": "code",
   "execution_count": 5,
   "id": "d3594121",
   "metadata": {},
   "outputs": [
    {
     "data": {
      "text/plain": [
       "'Hello'"
      ]
     },
     "execution_count": 5,
     "metadata": {},
     "output_type": "execute_result"
    }
   ],
   "source": [
    "'Hello, world!'[:5]"
   ]
  },
  {
   "cell_type": "code",
   "execution_count": 6,
   "id": "ca543a11",
   "metadata": {},
   "outputs": [
    {
     "data": {
      "text/plain": [
       "'lo, world!'"
      ]
     },
     "execution_count": 6,
     "metadata": {},
     "output_type": "execute_result"
    }
   ],
   "source": [
    "'Hello, world!'[3:]"
   ]
  },
  {
   "cell_type": "raw",
   "id": "88e51b77",
   "metadata": {},
   "source": [
    "Q7. What are the values of the following expressions?\n",
    "'Hello'.upper()\n",
    "'Hello'.upper().isupper()\n",
    "'Hello'.upper().lower()\n"
   ]
  },
  {
   "cell_type": "code",
   "execution_count": 7,
   "id": "3a5b06dd",
   "metadata": {},
   "outputs": [
    {
     "data": {
      "text/plain": [
       "'HELLO'"
      ]
     },
     "execution_count": 7,
     "metadata": {},
     "output_type": "execute_result"
    }
   ],
   "source": [
    "'Hello'.upper()"
   ]
  },
  {
   "cell_type": "raw",
   "id": "91f86f40",
   "metadata": {},
   "source": [
    "In Python, the upper() method is a string method that returns a new string with all the alphabetic characters in uppercase."
   ]
  },
  {
   "cell_type": "code",
   "execution_count": 8,
   "id": "badee482",
   "metadata": {},
   "outputs": [
    {
     "data": {
      "text/plain": [
       "True"
      ]
     },
     "execution_count": 8,
     "metadata": {},
     "output_type": "execute_result"
    }
   ],
   "source": [
    "'Hello'.upper().isupper()"
   ]
  },
  {
   "cell_type": "raw",
   "id": "152770d7",
   "metadata": {},
   "source": [
    ".isupper(): This is another string method called isupper(). It checks if all the alphabetic characters in the string are in uppercase. It returns True if all the characters are in uppercase, and False otherwise."
   ]
  },
  {
   "cell_type": "code",
   "execution_count": 9,
   "id": "d2f0735b",
   "metadata": {},
   "outputs": [
    {
     "data": {
      "text/plain": [
       "'hello'"
      ]
     },
     "execution_count": 9,
     "metadata": {},
     "output_type": "execute_result"
    }
   ],
   "source": [
    "'Hello'.upper().lower()"
   ]
  },
  {
   "cell_type": "raw",
   "id": "b1f1eddb",
   "metadata": {},
   "source": [
    ".lower():- It is also a string method which return a new string with all the alphabetic characters in lowercase."
   ]
  },
  {
   "cell_type": "raw",
   "id": "02d88240",
   "metadata": {},
   "source": [
    "Q8. What are the values of the following expressions?\n",
    "'Remember, remember, the fifth of July.'.split()\n",
    "'-'.join('There can only one.'.split())\n"
   ]
  },
  {
   "cell_type": "code",
   "execution_count": 10,
   "id": "9c659d04",
   "metadata": {},
   "outputs": [
    {
     "data": {
      "text/plain": [
       "['Remember,', 'remember,', 'the', 'fifth', 'of', 'July.']"
      ]
     },
     "execution_count": 10,
     "metadata": {},
     "output_type": "execute_result"
    }
   ],
   "source": [
    "'Remember, remember, the fifth of July.'.split()"
   ]
  },
  {
   "cell_type": "raw",
   "id": "52cdd1d2",
   "metadata": {},
   "source": [
    "The code 'Remember, remember, the fifth of July.'.split() uses the split() method to split the given string into a list of words. By default, the split() method splits a string using whitespace as the separator."
   ]
  },
  {
   "cell_type": "code",
   "execution_count": 11,
   "id": "c223b5d9",
   "metadata": {},
   "outputs": [
    {
     "data": {
      "text/plain": [
       "'There-can-only-one.'"
      ]
     },
     "execution_count": 11,
     "metadata": {},
     "output_type": "execute_result"
    }
   ],
   "source": [
    "'-'.join('There can only one.'.split())\n",
    "Here we can perform this code as two part\n",
    "1- when we are using .split() method, it will create a liost of word \n",
    "2-Now if we use join method then it will join all the words into a single string using hyphens ('-') \n"
   ]
  },
  {
   "cell_type": "code",
   "execution_count": 12,
   "id": "d39976e4",
   "metadata": {},
   "outputs": [
    {
     "data": {
      "text/plain": [
       "['There', 'can', 'only', 'one.']"
      ]
     },
     "execution_count": 12,
     "metadata": {},
     "output_type": "execute_result"
    }
   ],
   "source": [
    "('There can only one.'.split())"
   ]
  },
  {
   "cell_type": "code",
   "execution_count": 14,
   "id": "44a5aa62",
   "metadata": {},
   "outputs": [
    {
     "data": {
      "text/plain": [
       "'There-can-only-one.'"
      ]
     },
     "execution_count": 14,
     "metadata": {},
     "output_type": "execute_result"
    }
   ],
   "source": [
    "'-'.join('There can only one.'.split())"
   ]
  },
  {
   "cell_type": "raw",
   "id": "f055c9f1",
   "metadata": {},
   "source": [
    "Q9. What are the methods for right-justifying, left-justifying, and centering a string?"
   ]
  },
  {
   "cell_type": "raw",
   "id": "cfd568bb",
   "metadata": {},
   "source": [
    "right_justifying:- This method returns a new string that is right-justified within a field of the specified width, with padding on the left (usually filled with spaces)"
   ]
  },
  {
   "cell_type": "code",
   "execution_count": 27,
   "id": "d2cd155d",
   "metadata": {},
   "outputs": [
    {
     "name": "stdout",
     "output_type": "stream",
     "text": [
      "    devesh\n"
     ]
    }
   ],
   "source": [
    "str='devesh'\n",
    "width=10\n",
    "r_j=str.rjust(width)\n",
    "print(r_j)"
   ]
  },
  {
   "cell_type": "raw",
   "id": "5f0a2df8",
   "metadata": {},
   "source": [
    "left_justifying:- This method returns a new string that is left-justified within a field of the specified width,with padding on the right(usually filled with spaces)"
   ]
  },
  {
   "cell_type": "code",
   "execution_count": 28,
   "id": "e8774464",
   "metadata": {},
   "outputs": [
    {
     "name": "stdout",
     "output_type": "stream",
     "text": [
      "devesh\n"
     ]
    }
   ],
   "source": [
    "str='devesh'\n",
    "width=-20\n",
    "l_j=str.ljust(width)\n",
    "print(l_j)"
   ]
  },
  {
   "cell_type": "raw",
   "id": "e4e33c20",
   "metadata": {},
   "source": [
    "Centering:-This method returns a new string that is centered within a field of the specified width, with equal padding on both sides (usually filled with spaces)."
   ]
  },
  {
   "cell_type": "code",
   "execution_count": 30,
   "id": "a53e71ba",
   "metadata": {},
   "outputs": [
    {
     "name": "stdout",
     "output_type": "stream",
     "text": [
      "                 devesh                 \n"
     ]
    }
   ],
   "source": [
    "str='devesh'\n",
    "width=40\n",
    "centering =str.center(width)        \n",
    "print(centering)"
   ]
  },
  {
   "cell_type": "raw",
   "id": "40e313c8",
   "metadata": {},
   "source": [
    "Q10. What is the best way to remove whitespace characters from the start or end?"
   ]
  },
  {
   "cell_type": "code",
   "execution_count": 33,
   "id": "9f605af9",
   "metadata": {},
   "outputs": [
    {
     "name": "stdout",
     "output_type": "stream",
     "text": [
      "This is a string with leading and trailing whitespace.\n"
     ]
    }
   ],
   "source": [
    "string = \"   This is a string with leading and trailing whitespace.   \"\n",
    "trimmed_string = string.strip()\n",
    "print(trimmed_string)"
   ]
  },
  {
   "cell_type": "code",
   "execution_count": null,
   "id": "0e369245",
   "metadata": {},
   "outputs": [],
   "source": []
  }
 ],
 "metadata": {
  "kernelspec": {
   "display_name": "Python 3 (ipykernel)",
   "language": "python",
   "name": "python3"
  },
  "language_info": {
   "codemirror_mode": {
    "name": "ipython",
    "version": 3
   },
   "file_extension": ".py",
   "mimetype": "text/x-python",
   "name": "python",
   "nbconvert_exporter": "python",
   "pygments_lexer": "ipython3",
   "version": "3.9.7"
  }
 },
 "nbformat": 4,
 "nbformat_minor": 5
}
