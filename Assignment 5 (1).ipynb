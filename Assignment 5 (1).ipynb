{
 "cells": [
  {
   "cell_type": "raw",
   "id": "ffcd07d8",
   "metadata": {},
   "source": [
    "#1. What does an empty dictionary's code look like?\n"
   ]
  },
  {
   "cell_type": "code",
   "execution_count": 4,
   "id": "8cc58229",
   "metadata": {},
   "outputs": [],
   "source": [
    "d={}"
   ]
  },
  {
   "cell_type": "code",
   "execution_count": 5,
   "id": "77343d35",
   "metadata": {},
   "outputs": [
    {
     "data": {
      "text/plain": [
       "dict"
      ]
     },
     "execution_count": 5,
     "metadata": {},
     "output_type": "execute_result"
    }
   ],
   "source": [
    "type(d)"
   ]
  },
  {
   "cell_type": "raw",
   "id": "0bb26e16",
   "metadata": {},
   "source": [
    "#2. What is the value of a dictionary value with the key 'foo' and the value 42?\n"
   ]
  },
  {
   "cell_type": "code",
   "execution_count": 11,
   "id": "545100d5",
   "metadata": {},
   "outputs": [],
   "source": [
    "dic={'foo':'42'}\n",
    "value=dic['foo']"
   ]
  },
  {
   "cell_type": "code",
   "execution_count": 12,
   "id": "7fade7cf",
   "metadata": {},
   "outputs": [
    {
     "data": {
      "text/plain": [
       "'42'"
      ]
     },
     "execution_count": 12,
     "metadata": {},
     "output_type": "execute_result"
    }
   ],
   "source": [
    "value\n",
    "#In this example, value will be assigned the value 42, which is the value associated with the key 'foo' in the dictionary dic."
   ]
  },
  {
   "cell_type": "raw",
   "id": "d9c53a34",
   "metadata": {},
   "source": [
    "#3. What is the most significant distinction between a dictionary and a list?\n",
    "#List: To access an element in a list, we use its index. For example, list[0] would retrieve the first element in the list.\n",
    "#Dictionary: To access a value in a dictionary, we use its associated key. For example, dict['key'] would retrieve the value associated with the key 'key'.\n",
    "#for exa:-\n"
   ]
  },
  {
   "cell_type": "code",
   "execution_count": 13,
   "id": "c932ca66",
   "metadata": {},
   "outputs": [],
   "source": [
    "list=[1,2,3,4]\n",
    "dict={\"key1\":\"45\",\"key2\":\"50\"}"
   ]
  },
  {
   "cell_type": "code",
   "execution_count": 14,
   "id": "5adec31d",
   "metadata": {},
   "outputs": [
    {
     "data": {
      "text/plain": [
       "1"
      ]
     },
     "execution_count": 14,
     "metadata": {},
     "output_type": "execute_result"
    }
   ],
   "source": [
    "list[0]"
   ]
  },
  {
   "cell_type": "code",
   "execution_count": 15,
   "id": "ca996de1",
   "metadata": {},
   "outputs": [
    {
     "data": {
      "text/plain": [
       "'45'"
      ]
     },
     "execution_count": 15,
     "metadata": {},
     "output_type": "execute_result"
    }
   ],
   "source": [
    "dict[\"key1\"]"
   ]
  },
  {
   "cell_type": "raw",
   "id": "4a2d400d",
   "metadata": {},
   "source": [
    "#List: Lists are mutable, meaning you can modify their contents. You can change, add, or remove items from a list after it's created.\n",
    "#Dictionary: Dictionaries are also mutable; you can change the values associated with keys or add and remove key-value pairs.\n",
    "\n",
    "#List: Lists maintain the order of elements. The order in which items are added to a list is the order in which they are stored.\n",
    "#Dictionary: Dictionaries do not guarantee any specific order of key-value pairs. In Python 3.7 and later, dictionaries preserve the order of insertion, but you should not rely on this behavior in older versions or for cross-version compatibility.\n",
    "\n",
    "#Key Requirements:\n",
    "\n",
    "#List: Lists do not require keys. They use numerical indices by default.\n",
    "#Dictionary: Dictionaries require keys for accessing values. Each value must be associated with a unique key.\n",
    "#In summary, while lists are used for ordered collections of items accessed by indices, dictionaries are used for unordered collections of key-value pairs accessed by keys. The choice between them depends on the specific needs of your data structure and how you want to access and organize your data.\n",
    "#exa:-\n",
    "\n",
    "\n",
    "\n",
    "\n",
    "\n"
   ]
  },
  {
   "cell_type": "code",
   "execution_count": 16,
   "id": "44f55c91",
   "metadata": {},
   "outputs": [],
   "source": [
    "list[0]=9"
   ]
  },
  {
   "cell_type": "code",
   "execution_count": 17,
   "id": "8a36e98b",
   "metadata": {},
   "outputs": [
    {
     "data": {
      "text/plain": [
       "[9, 2, 3, 4]"
      ]
     },
     "execution_count": 17,
     "metadata": {},
     "output_type": "execute_result"
    }
   ],
   "source": [
    "list"
   ]
  },
  {
   "cell_type": "code",
   "execution_count": 18,
   "id": "7bd34fd9",
   "metadata": {},
   "outputs": [],
   "source": [
    "dict[\"key1\"]=60"
   ]
  },
  {
   "cell_type": "code",
   "execution_count": 19,
   "id": "cd5c5f8f",
   "metadata": {},
   "outputs": [
    {
     "data": {
      "text/plain": [
       "60"
      ]
     },
     "execution_count": 19,
     "metadata": {},
     "output_type": "execute_result"
    }
   ],
   "source": [
    "dict[\"key1\"]"
   ]
  },
  {
   "cell_type": "code",
   "execution_count": 20,
   "id": "db5b6375",
   "metadata": {},
   "outputs": [
    {
     "data": {
      "text/plain": [
       "{'key1': 60, 'key2': '50'}"
      ]
     },
     "execution_count": 20,
     "metadata": {},
     "output_type": "execute_result"
    }
   ],
   "source": [
    "dict"
   ]
  },
  {
   "cell_type": "raw",
   "id": "f73cacca",
   "metadata": {},
   "source": [
    "# Q4. What happens if you try to access spam['foo'] if spam is {'bar': 100}?\n",
    "Ans-In Python, when you attempt to access a key that is not present in a dictionary using square bracket notation, Python raises a KeyError to indicate that the key is not found."
   ]
  },
  {
   "cell_type": "code",
   "execution_count": 21,
   "id": "8496adf9",
   "metadata": {},
   "outputs": [],
   "source": [
    "spam={'bar':100}"
   ]
  },
  {
   "cell_type": "code",
   "execution_count": 22,
   "id": "dc431673",
   "metadata": {},
   "outputs": [
    {
     "ename": "KeyError",
     "evalue": "'foo'",
     "output_type": "error",
     "traceback": [
      "\u001b[1;31m---------------------------------------------------------------------------\u001b[0m",
      "\u001b[1;31mKeyError\u001b[0m                                  Traceback (most recent call last)",
      "\u001b[1;32m~\\AppData\\Local\\Temp/ipykernel_3356/3999281786.py\u001b[0m in \u001b[0;36m<module>\u001b[1;34m\u001b[0m\n\u001b[1;32m----> 1\u001b[1;33m \u001b[0mspam\u001b[0m\u001b[1;33m[\u001b[0m\u001b[1;34m'foo'\u001b[0m\u001b[1;33m]\u001b[0m\u001b[1;33m\u001b[0m\u001b[1;33m\u001b[0m\u001b[0m\n\u001b[0m",
      "\u001b[1;31mKeyError\u001b[0m: 'foo'"
     ]
    }
   ],
   "source": [
    "spam['foo']"
   ]
  },
  {
   "cell_type": "raw",
   "id": "078b0543",
   "metadata": {},
   "source": [
    "Q-5. If a dictionary is stored in spam, what is the difference between the expressions 'cat' in spam and 'cat' in spam.keys()?"
   ]
  },
  {
   "cell_type": "code",
   "execution_count": 23,
   "id": "dae81d5e",
   "metadata": {},
   "outputs": [],
   "source": [
    "spam={\"key1\":\"cat\", \"key2\":100}"
   ]
  },
  {
   "cell_type": "code",
   "execution_count": 24,
   "id": "998d3c79",
   "metadata": {},
   "outputs": [
    {
     "data": {
      "text/plain": [
       "{'key1': 'cat', 'key2': 100}"
      ]
     },
     "execution_count": 24,
     "metadata": {},
     "output_type": "execute_result"
    }
   ],
   "source": [
    "spam"
   ]
  },
  {
   "cell_type": "code",
   "execution_count": 25,
   "id": "4d300455",
   "metadata": {},
   "outputs": [
    {
     "data": {
      "text/plain": [
       "dict_keys(['key1', 'key2'])"
      ]
     },
     "execution_count": 25,
     "metadata": {},
     "output_type": "execute_result"
    }
   ],
   "source": [
    "spam.keys()"
   ]
  },
  {
   "cell_type": "code",
   "execution_count": 26,
   "id": "bfc05b35",
   "metadata": {},
   "outputs": [
    {
     "data": {
      "text/plain": [
       "100"
      ]
     },
     "execution_count": 26,
     "metadata": {},
     "output_type": "execute_result"
    }
   ],
   "source": [
    "spam['key2']"
   ]
  },
  {
   "cell_type": "raw",
   "id": "e51f1925",
   "metadata": {},
   "source": [
    "'cat' in spam directly checks for the key in the dictionary without creating an intermediate list of keys, making it slightly more efficient.\n",
    "\n",
    "'cat' in spam.keys() first creates a list of keys and then performs the check, which may be less efficient in terms of memory and computation, especially for large dictionaries."
   ]
  },
  {
   "cell_type": "code",
   "execution_count": 27,
   "id": "35e6bd6b",
   "metadata": {},
   "outputs": [
    {
     "data": {
      "text/plain": [
       "'cat'"
      ]
     },
     "execution_count": 27,
     "metadata": {},
     "output_type": "execute_result"
    }
   ],
   "source": [
    "spam['key1']"
   ]
  },
  {
   "cell_type": "raw",
   "id": "be054304",
   "metadata": {},
   "source": [
    "6. If a dictionary is stored in spam, what is the difference between the expressions 'cat' in spam and 'cat' in spam.values()? "
   ]
  },
  {
   "cell_type": "code",
   "execution_count": 28,
   "id": "70e872ec",
   "metadata": {},
   "outputs": [
    {
     "data": {
      "text/plain": [
       "dict_values(['cat', 100])"
      ]
     },
     "execution_count": 28,
     "metadata": {},
     "output_type": "execute_result"
    }
   ],
   "source": [
    "spam.values()\n",
    "#spam.values() will create a list of values present in in spam in the form of dictionary."
   ]
  },
  {
   "cell_type": "raw",
   "id": "07cb5c7a",
   "metadata": {},
   "source": [
    "7. What is a shortcut for the following code?\n",
    "if 'color' not in spam:\n",
    "spam['color'] = 'black'"
   ]
  },
  {
   "cell_type": "code",
   "execution_count": 29,
   "id": "d6e1f0f6",
   "metadata": {},
   "outputs": [],
   "source": [
    "new_spam=spam.setdefault('color', 'black')\n",
    "#This line of code will check if the key 'color' exists in the spam dictionary. If it does, it does nothing; if it doesn't, it adds the key 'color' with the default value 'black'."
   ]
  },
  {
   "cell_type": "code",
   "execution_count": 30,
   "id": "fef86855",
   "metadata": {},
   "outputs": [
    {
     "data": {
      "text/plain": [
       "{'key1': 'cat', 'key2': 100, 'color': 'black'}"
      ]
     },
     "execution_count": 30,
     "metadata": {},
     "output_type": "execute_result"
    }
   ],
   "source": [
    "spam"
   ]
  },
  {
   "cell_type": "raw",
   "id": "22cc1502",
   "metadata": {},
   "source": [
    "8. How do you \"pretty print\" dictionary values using which module and function?"
   ]
  },
  {
   "cell_type": "code",
   "execution_count": 31,
   "id": "a24e8c7f",
   "metadata": {},
   "outputs": [
    {
     "name": "stdout",
     "output_type": "stream",
     "text": [
      "Pretty printing has been turned OFF\n"
     ]
    }
   ],
   "source": [
    "pprint()"
   ]
  },
  {
   "cell_type": "code",
   "execution_count": 47,
   "id": "2effef6b",
   "metadata": {},
   "outputs": [
    {
     "name": "stdout",
     "output_type": "stream",
     "text": [
      "{     'Address': {'Area': 'Trivenipuram', 'City': 'New delhi', 'H.No': 14},\n",
      "      'Age': 34,\n",
      "      'Name': 'Devesh Sharma'}\n"
     ]
    }
   ],
   "source": [
    "import pprint\n",
    "\n",
    "dict = {\n",
    "    'Name': 'Devesh Sharma',\n",
    "    'Age': 34,\n",
    "    'Address':{\n",
    "        'H.No' :14,\n",
    "        'Area':'Trivenipuram',\n",
    "        'City':'New delhi',\n",
    "    }\n",
    "}\n",
    "\n",
    "# Pretty print the dictionary\n",
    "pp = pprint.PrettyPrinter(6)  # Create a PrettyPrinter with an indentation of 4 spaces\n",
    "pp.pprint(dict)  # Use pprint() to print the dictionary"
   ]
  },
  {
   "cell_type": "code",
   "execution_count": null,
   "id": "0799383e",
   "metadata": {},
   "outputs": [],
   "source": [
    "# Using pprint Module and Function, we can pretty print the dictionary."
   ]
  }
 ],
 "metadata": {
  "kernelspec": {
   "display_name": "Python 3 (ipykernel)",
   "language": "python",
   "name": "python3"
  },
  "language_info": {
   "codemirror_mode": {
    "name": "ipython",
    "version": 3
   },
   "file_extension": ".py",
   "mimetype": "text/x-python",
   "name": "python",
   "nbconvert_exporter": "python",
   "pygments_lexer": "ipython3",
   "version": "3.9.7"
  }
 },
 "nbformat": 4,
 "nbformat_minor": 5
}
